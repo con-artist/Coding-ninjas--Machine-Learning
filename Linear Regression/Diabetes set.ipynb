{
 "cells": [
  {
   "cell_type": "code",
   "execution_count": 1,
   "id": "ae8f51b3",
   "metadata": {},
   "outputs": [],
   "source": [
    "import numpy as np\n",
    "data= np.loadtxt('training_diabetes_x_y_train.csv',delimiter=',')\n",
    "test_data= np.loadtxt('test_diabetes_x_test.csv',delimiter=',')"
   ]
  },
  {
   "cell_type": "code",
   "execution_count": 2,
   "id": "b677beb5",
   "metadata": {},
   "outputs": [],
   "source": [
    "x_train= data[:, :10]\n",
    "y_train= data[:,10]\n",
    "x_test= test_data[:, :10]"
   ]
  },
  {
   "cell_type": "code",
   "execution_count": 3,
   "id": "61881967",
   "metadata": {},
   "outputs": [
    {
     "data": {
      "text/plain": [
       "LinearRegression()"
      ]
     },
     "execution_count": 3,
     "metadata": {},
     "output_type": "execute_result"
    }
   ],
   "source": [
    "from sklearn.linear_model import LinearRegression\n",
    "algo= LinearRegression()\n",
    "algo.fit(x_train, y_train)"
   ]
  },
  {
   "cell_type": "code",
   "execution_count": 4,
   "id": "28fd7382",
   "metadata": {},
   "outputs": [],
   "source": [
    "y_pred= algo.predict(x_test)"
   ]
  },
  {
   "cell_type": "code",
   "execution_count": 5,
   "id": "eb3871d6",
   "metadata": {},
   "outputs": [],
   "source": [
    "# y_pred=np.around(y_pred, decimals=5)\n",
    "# y_pred"
   ]
  },
  {
   "cell_type": "code",
   "execution_count": 6,
   "id": "38630747",
   "metadata": {},
   "outputs": [],
   "source": [
    "ans = np.savetxt('y_predicted.csv', y_pred, delimiter =',', fmt='%1.5f') "
   ]
  },
  {
   "cell_type": "code",
   "execution_count": null,
   "id": "d58d13a1",
   "metadata": {},
   "outputs": [],
   "source": []
  },
  {
   "cell_type": "code",
   "execution_count": null,
   "id": "98116e37",
   "metadata": {},
   "outputs": [],
   "source": []
  },
  {
   "cell_type": "code",
   "execution_count": null,
   "id": "70481a47",
   "metadata": {},
   "outputs": [],
   "source": []
  }
 ],
 "metadata": {
  "kernelspec": {
   "display_name": "Python 3",
   "language": "python",
   "name": "python3"
  },
  "language_info": {
   "codemirror_mode": {
    "name": "ipython",
    "version": 3
   },
   "file_extension": ".py",
   "mimetype": "text/x-python",
   "name": "python",
   "nbconvert_exporter": "python",
   "pygments_lexer": "ipython3",
   "version": "3.8.8"
  }
 },
 "nbformat": 4,
 "nbformat_minor": 5
}
