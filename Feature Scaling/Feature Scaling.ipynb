{
 "cells": [
  {
   "cell_type": "code",
   "execution_count": 1,
   "id": "bdbfd146",
   "metadata": {},
   "outputs": [],
   "source": [
    "import numpy as np\n",
    "from sklearn import preprocessing\n"
   ]
  },
  {
   "cell_type": "code",
   "execution_count": 11,
   "id": "1cc0c91d",
   "metadata": {},
   "outputs": [],
   "source": [
    "X = np.array([[ 1., 15000.,  250.],\n",
    "              [ 2.,  16000.,  100.],\n",
    "              [ 0.,  20000., 200.]])\n"
   ]
  },
  {
   "cell_type": "code",
   "execution_count": 12,
   "id": "b0a20477",
   "metadata": {},
   "outputs": [
    {
     "data": {
      "text/plain": [
       "array([[ 0.        , -0.9258201 ,  1.06904497],\n",
       "       [ 1.22474487, -0.46291005, -1.33630621],\n",
       "       [-1.22474487,  1.38873015,  0.26726124]])"
      ]
     },
     "execution_count": 12,
     "metadata": {},
     "output_type": "execute_result"
    }
   ],
   "source": [
    "X_scaled = preprocessing.scale(X)\n",
    "X_scaled\n"
   ]
  },
  {
   "cell_type": "code",
   "execution_count": 13,
   "id": "68459b21",
   "metadata": {},
   "outputs": [
    {
     "data": {
      "text/plain": [
       "array([ 0.00000000e+00,  0.00000000e+00, -1.66533454e-16])"
      ]
     },
     "execution_count": 13,
     "metadata": {},
     "output_type": "execute_result"
    }
   ],
   "source": [
    "X_scaled.mean(axis = 0)\n"
   ]
  },
  {
   "cell_type": "code",
   "execution_count": 16,
   "id": "ecdb8c04",
   "metadata": {},
   "outputs": [
    {
     "data": {
      "text/plain": [
       "array([1., 1., 1.])"
      ]
     },
     "execution_count": 16,
     "metadata": {},
     "output_type": "execute_result"
    }
   ],
   "source": [
    "X_scaled.std(axis= 0)\n"
   ]
  },
  {
   "cell_type": "code",
   "execution_count": 17,
   "id": "d22e5e5d",
   "metadata": {},
   "outputs": [
    {
     "data": {
      "text/plain": [
       "array([[ 0.        , -0.9258201 ,  1.06904497],\n",
       "       [ 1.22474487, -0.46291005, -1.33630621],\n",
       "       [-1.22474487,  1.38873015,  0.26726124]])"
      ]
     },
     "execution_count": 17,
     "metadata": {},
     "output_type": "execute_result"
    }
   ],
   "source": [
    "scaler = preprocessing.StandardScaler()\n",
    "scaler.fit(X)\n",
    "\n",
    "scaler.transform(X)\n"
   ]
  },
  {
   "cell_type": "code",
   "execution_count": 18,
   "id": "06be9f38",
   "metadata": {},
   "outputs": [
    {
     "data": {
      "text/plain": [
       "array([[ 0.        , -7.86900794, -2.93987366]])"
      ]
     },
     "execution_count": 18,
     "metadata": {},
     "output_type": "execute_result"
    }
   ],
   "source": [
    "X_test = [[1,1,0]]\n",
    "scaler.transform(X_test)"
   ]
  },
  {
   "cell_type": "code",
   "execution_count": null,
   "id": "8d25556f",
   "metadata": {},
   "outputs": [],
   "source": []
  }
 ],
 "metadata": {
  "kernelspec": {
   "display_name": "Python 3",
   "language": "python",
   "name": "python3"
  },
  "language_info": {
   "codemirror_mode": {
    "name": "ipython",
    "version": 3
   },
   "file_extension": ".py",
   "mimetype": "text/x-python",
   "name": "python",
   "nbconvert_exporter": "python",
   "pygments_lexer": "ipython3",
   "version": "3.8.8"
  }
 },
 "nbformat": 4,
 "nbformat_minor": 5
}
