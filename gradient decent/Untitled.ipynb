{
 "cells": [
  {
   "cell_type": "code",
   "execution_count": 1,
   "id": "7186be66",
   "metadata": {},
   "outputs": [
    {
     "name": "stdout",
     "output_type": "stream",
     "text": [
      "a\n"
     ]
    }
   ],
   "source": [
    "import numpy as np\n",
    "from sklearn import preprocessing\n",
    "from sklearn import model_selection\n",
    "data= np.loadtxt('0000000000002417_training_boston_x_y_train.csv',delimiter=',')\n",
    "test_data= np.loadtxt('0000000000002417_test_boston_x_test.csv',delimiter=',')\n",
    "print(\"a\")"
   ]
  },
  {
   "cell_type": "code",
   "execution_count": null,
   "id": "26d7198b",
   "metadata": {},
   "outputs": [],
   "source": [
    "x_train= data[:, :-1]\n",
    "y_train= data[:,-1]\n",
    "x_test= test_data"
   ]
  }
 ],
 "metadata": {
  "kernelspec": {
   "display_name": "Python 3",
   "language": "python",
   "name": "python3"
  },
  "language_info": {
   "codemirror_mode": {
    "name": "ipython",
    "version": 3
   },
   "file_extension": ".py",
   "mimetype": "text/x-python",
   "name": "python",
   "nbconvert_exporter": "python",
   "pygments_lexer": "ipython3",
   "version": "3.8.8"
  }
 },
 "nbformat": 4,
 "nbformat_minor": 5
}
